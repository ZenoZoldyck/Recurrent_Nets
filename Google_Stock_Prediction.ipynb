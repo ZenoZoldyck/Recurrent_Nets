{
  "nbformat": 4,
  "nbformat_minor": 0,
  "metadata": {
    "colab": {
      "name": "Google_Stock_Prediction.ipynb",
      "provenance": [],
      "collapsed_sections": [],
      "authorship_tag": "ABX9TyMci4F+GDd3ZfGVtt5Ifcjg",
      "include_colab_link": true
    },
    "kernelspec": {
      "name": "python3",
      "display_name": "Python 3"
    },
    "language_info": {
      "name": "python"
    },
    "accelerator": "GPU"
  },
  "cells": [
    {
      "cell_type": "markdown",
      "metadata": {
        "id": "view-in-github",
        "colab_type": "text"
      },
      "source": [
        "<a href=\"https://colab.research.google.com/github/ZenoZoldyck/Recurrent_Nets/blob/main/Google_Stock_Prediction.ipynb\" target=\"_parent\"><img src=\"https://colab.research.google.com/assets/colab-badge.svg\" alt=\"Open In Colab\"/></a>"
      ]
    },
    {
      "cell_type": "code",
      "metadata": {
        "colab": {
          "base_uri": "https://localhost:8080/",
          "height": 35
        },
        "id": "o41AYKUMndiN",
        "outputId": "6c772f5f-a529-44a5-e18d-aa09aa276cbc"
      },
      "source": [
        "import tensorflow as tf\n",
        "import pandas as pd\n",
        "import numpy as np\n",
        "import matplotlib.pyplot as plt\n",
        "from sklearn.preprocessing import MinMaxScaler\n",
        "\n",
        "tf.__version__"
      ],
      "execution_count": 3,
      "outputs": [
        {
          "output_type": "execute_result",
          "data": {
            "application/vnd.google.colaboratory.intrinsic+json": {
              "type": "string"
            },
            "text/plain": [
              "'2.5.0'"
            ]
          },
          "metadata": {
            "tags": []
          },
          "execution_count": 3
        }
      ]
    },
    {
      "cell_type": "code",
      "metadata": {
        "colab": {
          "base_uri": "https://localhost:8080/",
          "height": 359
        },
        "id": "bGeoocTkn2cY",
        "outputId": "6ce05ed8-2729-4563-daa8-444535e74e25"
      },
      "source": [
        "# load in the data\n",
        "\n",
        "dataset = pd.read_csv(\"/content/GOOGL_2006-01-01_to_2018-01-01.csv\")\n",
        "dataset[:10]"
      ],
      "execution_count": 237,
      "outputs": [
        {
          "output_type": "execute_result",
          "data": {
            "text/html": [
              "<div>\n",
              "<style scoped>\n",
              "    .dataframe tbody tr th:only-of-type {\n",
              "        vertical-align: middle;\n",
              "    }\n",
              "\n",
              "    .dataframe tbody tr th {\n",
              "        vertical-align: top;\n",
              "    }\n",
              "\n",
              "    .dataframe thead th {\n",
              "        text-align: right;\n",
              "    }\n",
              "</style>\n",
              "<table border=\"1\" class=\"dataframe\">\n",
              "  <thead>\n",
              "    <tr style=\"text-align: right;\">\n",
              "      <th></th>\n",
              "      <th>Date</th>\n",
              "      <th>Open</th>\n",
              "      <th>High</th>\n",
              "      <th>Low</th>\n",
              "      <th>Close</th>\n",
              "      <th>Volume</th>\n",
              "      <th>Name</th>\n",
              "    </tr>\n",
              "  </thead>\n",
              "  <tbody>\n",
              "    <tr>\n",
              "      <th>0</th>\n",
              "      <td>2006-01-03</td>\n",
              "      <td>211.47</td>\n",
              "      <td>218.05</td>\n",
              "      <td>209.32</td>\n",
              "      <td>217.83</td>\n",
              "      <td>13137450</td>\n",
              "      <td>GOOGL</td>\n",
              "    </tr>\n",
              "    <tr>\n",
              "      <th>1</th>\n",
              "      <td>2006-01-04</td>\n",
              "      <td>222.17</td>\n",
              "      <td>224.70</td>\n",
              "      <td>220.09</td>\n",
              "      <td>222.84</td>\n",
              "      <td>15292353</td>\n",
              "      <td>GOOGL</td>\n",
              "    </tr>\n",
              "    <tr>\n",
              "      <th>2</th>\n",
              "      <td>2006-01-05</td>\n",
              "      <td>223.22</td>\n",
              "      <td>226.00</td>\n",
              "      <td>220.97</td>\n",
              "      <td>225.85</td>\n",
              "      <td>10815661</td>\n",
              "      <td>GOOGL</td>\n",
              "    </tr>\n",
              "    <tr>\n",
              "      <th>3</th>\n",
              "      <td>2006-01-06</td>\n",
              "      <td>228.66</td>\n",
              "      <td>235.49</td>\n",
              "      <td>226.85</td>\n",
              "      <td>233.06</td>\n",
              "      <td>17759521</td>\n",
              "      <td>GOOGL</td>\n",
              "    </tr>\n",
              "    <tr>\n",
              "      <th>4</th>\n",
              "      <td>2006-01-09</td>\n",
              "      <td>233.44</td>\n",
              "      <td>236.94</td>\n",
              "      <td>230.70</td>\n",
              "      <td>233.68</td>\n",
              "      <td>12795837</td>\n",
              "      <td>GOOGL</td>\n",
              "    </tr>\n",
              "    <tr>\n",
              "      <th>5</th>\n",
              "      <td>2006-01-10</td>\n",
              "      <td>232.44</td>\n",
              "      <td>235.36</td>\n",
              "      <td>231.25</td>\n",
              "      <td>235.11</td>\n",
              "      <td>9104719</td>\n",
              "      <td>GOOGL</td>\n",
              "    </tr>\n",
              "    <tr>\n",
              "      <th>6</th>\n",
              "      <td>2006-01-11</td>\n",
              "      <td>235.87</td>\n",
              "      <td>237.79</td>\n",
              "      <td>234.82</td>\n",
              "      <td>236.05</td>\n",
              "      <td>9008664</td>\n",
              "      <td>GOOGL</td>\n",
              "    </tr>\n",
              "    <tr>\n",
              "      <th>7</th>\n",
              "      <td>2006-01-12</td>\n",
              "      <td>237.10</td>\n",
              "      <td>237.73</td>\n",
              "      <td>230.98</td>\n",
              "      <td>232.05</td>\n",
              "      <td>10125212</td>\n",
              "      <td>GOOGL</td>\n",
              "    </tr>\n",
              "    <tr>\n",
              "      <th>8</th>\n",
              "      <td>2006-01-13</td>\n",
              "      <td>232.39</td>\n",
              "      <td>233.68</td>\n",
              "      <td>231.04</td>\n",
              "      <td>233.36</td>\n",
              "      <td>7660220</td>\n",
              "      <td>GOOGL</td>\n",
              "    </tr>\n",
              "    <tr>\n",
              "      <th>9</th>\n",
              "      <td>2006-01-17</td>\n",
              "      <td>231.76</td>\n",
              "      <td>235.18</td>\n",
              "      <td>231.50</td>\n",
              "      <td>233.79</td>\n",
              "      <td>8335300</td>\n",
              "      <td>GOOGL</td>\n",
              "    </tr>\n",
              "  </tbody>\n",
              "</table>\n",
              "</div>"
            ],
            "text/plain": [
              "         Date    Open    High     Low   Close    Volume   Name\n",
              "0  2006-01-03  211.47  218.05  209.32  217.83  13137450  GOOGL\n",
              "1  2006-01-04  222.17  224.70  220.09  222.84  15292353  GOOGL\n",
              "2  2006-01-05  223.22  226.00  220.97  225.85  10815661  GOOGL\n",
              "3  2006-01-06  228.66  235.49  226.85  233.06  17759521  GOOGL\n",
              "4  2006-01-09  233.44  236.94  230.70  233.68  12795837  GOOGL\n",
              "5  2006-01-10  232.44  235.36  231.25  235.11   9104719  GOOGL\n",
              "6  2006-01-11  235.87  237.79  234.82  236.05   9008664  GOOGL\n",
              "7  2006-01-12  237.10  237.73  230.98  232.05  10125212  GOOGL\n",
              "8  2006-01-13  232.39  233.68  231.04  233.36   7660220  GOOGL\n",
              "9  2006-01-17  231.76  235.18  231.50  233.79   8335300  GOOGL"
            ]
          },
          "metadata": {
            "tags": []
          },
          "execution_count": 237
        }
      ]
    },
    {
      "cell_type": "code",
      "metadata": {
        "colab": {
          "base_uri": "https://localhost:8080/"
        },
        "id": "BemMsA7_odjU",
        "outputId": "67a4c4a0-6f4d-439e-f451-415675942d77"
      },
      "source": [
        "training_set = dataset[:2771][\"High\"]\n",
        "test_set = dataset[2711:][\"High\"]\n",
        "training_set.head(), test_set.head()"
      ],
      "execution_count": 238,
      "outputs": [
        {
          "output_type": "execute_result",
          "data": {
            "text/plain": [
              "(0    218.05\n",
              " 1    224.70\n",
              " 2    226.00\n",
              " 3    235.49\n",
              " 4    236.94\n",
              " Name: High, dtype: float64, 2711    819.86\n",
              " 2712    814.50\n",
              " 2713    806.56\n",
              " 2714    810.09\n",
              " 2715    813.49\n",
              " Name: High, dtype: float64)"
            ]
          },
          "metadata": {
            "tags": []
          },
          "execution_count": 238
        }
      ]
    },
    {
      "cell_type": "code",
      "metadata": {
        "colab": {
          "base_uri": "https://localhost:8080/"
        },
        "id": "g-tw9JA4qQmm",
        "outputId": "a4a37095-1e87-42b3-834b-354b681dd746"
      },
      "source": [
        "# mean normalization done\n",
        "training_set_norm = (training_set - training_set.min()) / (dataset[\"High\"].max() - dataset[\"High\"].min())\n",
        "test_set_norm = (test_set - test_set.min()) / (dataset[\"High\"].max() - dataset[\"High\"].min())\n",
        "test_set_norm = test_set_norm.reset_index(drop = True)\n",
        "training_set_norm.head()"
      ],
      "execution_count": 239,
      "outputs": [
        {
          "output_type": "execute_result",
          "data": {
            "text/plain": [
              "0    0.087457\n",
              "1    0.094445\n",
              "2    0.095811\n",
              "3    0.105782\n",
              "4    0.107306\n",
              "Name: High, dtype: float64"
            ]
          },
          "metadata": {
            "tags": []
          },
          "execution_count": 239
        }
      ]
    },
    {
      "cell_type": "code",
      "metadata": {
        "colab": {
          "base_uri": "https://localhost:8080/"
        },
        "id": "JCMUPHYOu-hi",
        "outputId": "c758581d-1f6d-461c-a6b3-5ebf4fda3a2d"
      },
      "source": [
        "x_train = []\n",
        "y_train = []\n",
        "for i in range(60, 2770) :\n",
        "  x_train.append(training_set_norm[i-60:i])\n",
        "  y_train.append(training_set_norm[i])\n",
        "\n",
        "x_train, y_train = np.array(x_train), np.array(y_train)\n",
        "x_train[0], y_train[0]"
      ],
      "execution_count": 240,
      "outputs": [
        {
          "output_type": "execute_result",
          "data": {
            "text/plain": [
              "(array([0.08745679, 0.0944445 , 0.09581052, 0.10578247, 0.1073061 ,\n",
              "        0.10564586, 0.10819927, 0.10813622, 0.10388055, 0.10545672,\n",
              "        0.09886831, 0.09682978, 0.089758  , 0.08363193, 0.09234293,\n",
              "        0.09721857, 0.08973699, 0.08880179, 0.08620635, 0.08952683,\n",
              "        0.06975107, 0.07211533, 0.06549539, 0.06338332, 0.06012588,\n",
              "        0.05328528, 0.05523974, 0.05002785, 0.04272489, 0.04329232,\n",
              "        0.04029758, 0.05134133, 0.05405235, 0.0547879 , 0.0523711 ,\n",
              "        0.05883342, 0.05822396, 0.06433953, 0.06740782, 0.05263379,\n",
              "        0.05875986, 0.06198577, 0.05996827, 0.0521084 , 0.0476846 ,\n",
              "        0.046886  , 0.03950949, 0.04035012, 0.04364958, 0.04361806,\n",
              "        0.04174766, 0.03808043, 0.04245169, 0.04328181, 0.03929934,\n",
              "        0.04017149, 0.05297004, 0.05382118, 0.05705759, 0.06817489]),\n",
              " 0.06528523542824717)"
            ]
          },
          "metadata": {
            "tags": []
          },
          "execution_count": 240
        }
      ]
    },
    {
      "cell_type": "code",
      "metadata": {
        "colab": {
          "base_uri": "https://localhost:8080/"
        },
        "id": "W58KNmcyy2Bl",
        "outputId": "8569b4b9-57a6-4876-d7b1-4ef7f0c5c7cc"
      },
      "source": [
        "x_train.shape\n",
        "x_train = tf.reshape(x_train, shape = (2710, 60, 1))\n",
        "x_train.shape"
      ],
      "execution_count": 241,
      "outputs": [
        {
          "output_type": "execute_result",
          "data": {
            "text/plain": [
              "TensorShape([2710, 60, 1])"
            ]
          },
          "metadata": {
            "tags": []
          },
          "execution_count": 241
        }
      ]
    },
    {
      "cell_type": "code",
      "metadata": {
        "colab": {
          "base_uri": "https://localhost:8080/"
        },
        "id": "Z1X4AQRkzL_P",
        "outputId": "e9cf2830-bbde-453f-94b4-393279ab478a"
      },
      "source": [
        "y_train.shape"
      ],
      "execution_count": 242,
      "outputs": [
        {
          "output_type": "execute_result",
          "data": {
            "text/plain": [
              "(2710,)"
            ]
          },
          "metadata": {
            "tags": []
          },
          "execution_count": 242
        }
      ]
    },
    {
      "cell_type": "code",
      "metadata": {
        "colab": {
          "base_uri": "https://localhost:8080/"
        },
        "id": "7LTH06FbzO7O",
        "outputId": "e9c359a0-4f60-4de8-d1b8-fc7f09b401a5"
      },
      "source": [
        "# time for model creation\n",
        "\n",
        "model_5 = tf.keras.Sequential([\n",
        "     tf.keras.layers.LSTM(50, return_sequences = True, input_shape = (60, 1)),\n",
        "     tf.keras.layers.Dropout(0.2),\n",
        "     tf.keras.layers.LSTM(50, return_sequences = True),\n",
        "     tf.keras.layers.Dropout(0.2),\n",
        "     tf.keras.layers.LSTM(50, return_sequences = True),\n",
        "     tf.keras.layers.Dropout(0.2),\n",
        "     tf.keras.layers.LSTM(50),\n",
        "     tf.keras.layers.Dropout(0.2),\n",
        "     tf.keras.layers.Dense(1)\n",
        "])\n",
        "model_5.summary()"
      ],
      "execution_count": 243,
      "outputs": [
        {
          "output_type": "stream",
          "text": [
            "Model: \"sequential_6\"\n",
            "_________________________________________________________________\n",
            "Layer (type)                 Output Shape              Param #   \n",
            "=================================================================\n",
            "lstm_24 (LSTM)               (None, 60, 50)            10400     \n",
            "_________________________________________________________________\n",
            "dropout_24 (Dropout)         (None, 60, 50)            0         \n",
            "_________________________________________________________________\n",
            "lstm_25 (LSTM)               (None, 60, 50)            20200     \n",
            "_________________________________________________________________\n",
            "dropout_25 (Dropout)         (None, 60, 50)            0         \n",
            "_________________________________________________________________\n",
            "lstm_26 (LSTM)               (None, 60, 50)            20200     \n",
            "_________________________________________________________________\n",
            "dropout_26 (Dropout)         (None, 60, 50)            0         \n",
            "_________________________________________________________________\n",
            "lstm_27 (LSTM)               (None, 50)                20200     \n",
            "_________________________________________________________________\n",
            "dropout_27 (Dropout)         (None, 50)                0         \n",
            "_________________________________________________________________\n",
            "dense_6 (Dense)              (None, 1)                 51        \n",
            "=================================================================\n",
            "Total params: 71,051\n",
            "Trainable params: 71,051\n",
            "Non-trainable params: 0\n",
            "_________________________________________________________________\n"
          ],
          "name": "stdout"
        }
      ]
    },
    {
      "cell_type": "code",
      "metadata": {
        "colab": {
          "base_uri": "https://localhost:8080/"
        },
        "id": "qwImypOc5Q4g",
        "outputId": "be1bb6b1-1bb7-47ab-d89d-10b76c056bcc"
      },
      "source": [
        "# time to compile\n",
        "model_5.compile(loss = tf.keras.losses.mse,\n",
        "              optimizer = tf.keras.optimizers.RMSprop(),\n",
        "              metrics = [\"mse\"])\n",
        "history = model_5.fit(x_train, y_train, epochs = 175)"
      ],
      "execution_count": 244,
      "outputs": [
        {
          "output_type": "stream",
          "text": [
            "Epoch 1/175\n",
            "85/85 [==============================] - 6s 14ms/step - loss: 0.0088 - mse: 0.0088\n",
            "Epoch 2/175\n",
            "85/85 [==============================] - 1s 13ms/step - loss: 0.0038 - mse: 0.0038\n",
            "Epoch 3/175\n",
            "85/85 [==============================] - 1s 13ms/step - loss: 0.0029 - mse: 0.0029\n",
            "Epoch 4/175\n",
            "85/85 [==============================] - 1s 14ms/step - loss: 0.0025 - mse: 0.0025\n",
            "Epoch 5/175\n",
            "85/85 [==============================] - 1s 13ms/step - loss: 0.0022 - mse: 0.0022\n",
            "Epoch 6/175\n",
            "85/85 [==============================] - 1s 13ms/step - loss: 0.0019 - mse: 0.0019\n",
            "Epoch 7/175\n",
            "85/85 [==============================] - 1s 13ms/step - loss: 0.0017 - mse: 0.0017\n",
            "Epoch 8/175\n",
            "85/85 [==============================] - 1s 13ms/step - loss: 0.0016 - mse: 0.0016\n",
            "Epoch 9/175\n",
            "85/85 [==============================] - 1s 13ms/step - loss: 0.0015 - mse: 0.0015\n",
            "Epoch 10/175\n",
            "85/85 [==============================] - 1s 13ms/step - loss: 0.0015 - mse: 0.0015\n",
            "Epoch 11/175\n",
            "85/85 [==============================] - 1s 14ms/step - loss: 0.0014 - mse: 0.0014\n",
            "Epoch 12/175\n",
            "85/85 [==============================] - 1s 13ms/step - loss: 0.0013 - mse: 0.0013\n",
            "Epoch 13/175\n",
            "85/85 [==============================] - 1s 13ms/step - loss: 0.0013 - mse: 0.0013\n",
            "Epoch 14/175\n",
            "85/85 [==============================] - 1s 13ms/step - loss: 0.0011 - mse: 0.0011\n",
            "Epoch 15/175\n",
            "85/85 [==============================] - 1s 13ms/step - loss: 0.0011 - mse: 0.0011\n",
            "Epoch 16/175\n",
            "85/85 [==============================] - 1s 13ms/step - loss: 0.0011 - mse: 0.0011\n",
            "Epoch 17/175\n",
            "85/85 [==============================] - 1s 13ms/step - loss: 0.0011 - mse: 0.0011\n",
            "Epoch 18/175\n",
            "85/85 [==============================] - 1s 13ms/step - loss: 8.9666e-04 - mse: 8.9666e-04\n",
            "Epoch 19/175\n",
            "85/85 [==============================] - 1s 14ms/step - loss: 0.0011 - mse: 0.0011\n",
            "Epoch 20/175\n",
            "85/85 [==============================] - 1s 14ms/step - loss: 0.0010 - mse: 0.0010\n",
            "Epoch 21/175\n",
            "85/85 [==============================] - 1s 14ms/step - loss: 9.9498e-04 - mse: 9.9498e-04\n",
            "Epoch 22/175\n",
            "85/85 [==============================] - 1s 13ms/step - loss: 9.0783e-04 - mse: 9.0783e-04\n",
            "Epoch 23/175\n",
            "85/85 [==============================] - 1s 13ms/step - loss: 9.0905e-04 - mse: 9.0905e-04\n",
            "Epoch 24/175\n",
            "85/85 [==============================] - 1s 13ms/step - loss: 8.8888e-04 - mse: 8.8888e-04\n",
            "Epoch 25/175\n",
            "85/85 [==============================] - 1s 13ms/step - loss: 8.7159e-04 - mse: 8.7159e-04\n",
            "Epoch 26/175\n",
            "85/85 [==============================] - 1s 13ms/step - loss: 9.4461e-04 - mse: 9.4461e-04\n",
            "Epoch 27/175\n",
            "85/85 [==============================] - 1s 14ms/step - loss: 8.4757e-04 - mse: 8.4757e-04\n",
            "Epoch 28/175\n",
            "85/85 [==============================] - 1s 13ms/step - loss: 8.9836e-04 - mse: 8.9836e-04\n",
            "Epoch 29/175\n",
            "85/85 [==============================] - 1s 13ms/step - loss: 7.8262e-04 - mse: 7.8262e-04\n",
            "Epoch 30/175\n",
            "85/85 [==============================] - 1s 13ms/step - loss: 7.9844e-04 - mse: 7.9844e-04\n",
            "Epoch 31/175\n",
            "85/85 [==============================] - 1s 13ms/step - loss: 8.0039e-04 - mse: 8.0039e-04\n",
            "Epoch 32/175\n",
            "85/85 [==============================] - 1s 13ms/step - loss: 7.3707e-04 - mse: 7.3707e-04\n",
            "Epoch 33/175\n",
            "85/85 [==============================] - 1s 13ms/step - loss: 7.6671e-04 - mse: 7.6671e-04\n",
            "Epoch 34/175\n",
            "85/85 [==============================] - 1s 14ms/step - loss: 7.5281e-04 - mse: 7.5281e-04\n",
            "Epoch 35/175\n",
            "85/85 [==============================] - 1s 13ms/step - loss: 7.5244e-04 - mse: 7.5244e-04\n",
            "Epoch 36/175\n",
            "85/85 [==============================] - 1s 13ms/step - loss: 7.0296e-04 - mse: 7.0296e-04\n",
            "Epoch 37/175\n",
            "85/85 [==============================] - 1s 13ms/step - loss: 6.9990e-04 - mse: 6.9990e-04\n",
            "Epoch 38/175\n",
            "85/85 [==============================] - 1s 14ms/step - loss: 6.9990e-04 - mse: 6.9990e-04\n",
            "Epoch 39/175\n",
            "85/85 [==============================] - 1s 13ms/step - loss: 6.7068e-04 - mse: 6.7068e-04\n",
            "Epoch 40/175\n",
            "85/85 [==============================] - 1s 13ms/step - loss: 6.5476e-04 - mse: 6.5476e-04\n",
            "Epoch 41/175\n",
            "85/85 [==============================] - 1s 14ms/step - loss: 6.8361e-04 - mse: 6.8361e-04\n",
            "Epoch 42/175\n",
            "85/85 [==============================] - 1s 14ms/step - loss: 6.6204e-04 - mse: 6.6204e-04\n",
            "Epoch 43/175\n",
            "85/85 [==============================] - 1s 13ms/step - loss: 6.8372e-04 - mse: 6.8372e-04\n",
            "Epoch 44/175\n",
            "85/85 [==============================] - 1s 14ms/step - loss: 6.6827e-04 - mse: 6.6827e-04\n",
            "Epoch 45/175\n",
            "85/85 [==============================] - 1s 14ms/step - loss: 6.7418e-04 - mse: 6.7418e-04\n",
            "Epoch 46/175\n",
            "85/85 [==============================] - 1s 13ms/step - loss: 6.6937e-04 - mse: 6.6937e-04\n",
            "Epoch 47/175\n",
            "85/85 [==============================] - 1s 13ms/step - loss: 6.9698e-04 - mse: 6.9698e-04\n",
            "Epoch 48/175\n",
            "85/85 [==============================] - 1s 14ms/step - loss: 6.5224e-04 - mse: 6.5224e-04\n",
            "Epoch 49/175\n",
            "85/85 [==============================] - 1s 14ms/step - loss: 6.4088e-04 - mse: 6.4088e-04\n",
            "Epoch 50/175\n",
            "85/85 [==============================] - 1s 13ms/step - loss: 6.7035e-04 - mse: 6.7035e-04\n",
            "Epoch 51/175\n",
            "85/85 [==============================] - 1s 13ms/step - loss: 5.7920e-04 - mse: 5.7920e-04\n",
            "Epoch 52/175\n",
            "85/85 [==============================] - 1s 14ms/step - loss: 6.3076e-04 - mse: 6.3076e-04\n",
            "Epoch 53/175\n",
            "85/85 [==============================] - 1s 13ms/step - loss: 6.4216e-04 - mse: 6.4216e-04\n",
            "Epoch 54/175\n",
            "85/85 [==============================] - 1s 13ms/step - loss: 6.0527e-04 - mse: 6.0527e-04\n",
            "Epoch 55/175\n",
            "85/85 [==============================] - 1s 14ms/step - loss: 6.2830e-04 - mse: 6.2830e-04\n",
            "Epoch 56/175\n",
            "85/85 [==============================] - 1s 13ms/step - loss: 5.9032e-04 - mse: 5.9032e-04\n",
            "Epoch 57/175\n",
            "85/85 [==============================] - 1s 14ms/step - loss: 5.9268e-04 - mse: 5.9268e-04\n",
            "Epoch 58/175\n",
            "85/85 [==============================] - 1s 13ms/step - loss: 5.9933e-04 - mse: 5.9933e-04\n",
            "Epoch 59/175\n",
            "85/85 [==============================] - 1s 13ms/step - loss: 5.9142e-04 - mse: 5.9142e-04\n",
            "Epoch 60/175\n",
            "85/85 [==============================] - 1s 13ms/step - loss: 5.4872e-04 - mse: 5.4872e-04\n",
            "Epoch 61/175\n",
            "85/85 [==============================] - 1s 14ms/step - loss: 5.9917e-04 - mse: 5.9917e-04\n",
            "Epoch 62/175\n",
            "85/85 [==============================] - 1s 13ms/step - loss: 5.4763e-04 - mse: 5.4763e-04\n",
            "Epoch 63/175\n",
            "85/85 [==============================] - 1s 14ms/step - loss: 5.6056e-04 - mse: 5.6056e-04\n",
            "Epoch 64/175\n",
            "85/85 [==============================] - 1s 14ms/step - loss: 5.9357e-04 - mse: 5.9357e-04\n",
            "Epoch 65/175\n",
            "85/85 [==============================] - 1s 14ms/step - loss: 5.6708e-04 - mse: 5.6708e-04\n",
            "Epoch 66/175\n",
            "85/85 [==============================] - 1s 14ms/step - loss: 5.8722e-04 - mse: 5.8722e-04\n",
            "Epoch 67/175\n",
            "85/85 [==============================] - 1s 13ms/step - loss: 5.7141e-04 - mse: 5.7141e-04\n",
            "Epoch 68/175\n",
            "85/85 [==============================] - 1s 13ms/step - loss: 5.7600e-04 - mse: 5.7600e-04\n",
            "Epoch 69/175\n",
            "85/85 [==============================] - 1s 13ms/step - loss: 5.9259e-04 - mse: 5.9259e-04\n",
            "Epoch 70/175\n",
            "85/85 [==============================] - 1s 14ms/step - loss: 5.2149e-04 - mse: 5.2149e-04\n",
            "Epoch 71/175\n",
            "85/85 [==============================] - 1s 14ms/step - loss: 5.2866e-04 - mse: 5.2866e-04\n",
            "Epoch 72/175\n",
            "85/85 [==============================] - 1s 14ms/step - loss: 5.4804e-04 - mse: 5.4804e-04\n",
            "Epoch 73/175\n",
            "85/85 [==============================] - 1s 13ms/step - loss: 4.9882e-04 - mse: 4.9882e-04\n",
            "Epoch 74/175\n",
            "85/85 [==============================] - 1s 13ms/step - loss: 5.2393e-04 - mse: 5.2393e-04\n",
            "Epoch 75/175\n",
            "85/85 [==============================] - 1s 14ms/step - loss: 5.5551e-04 - mse: 5.5551e-04\n",
            "Epoch 76/175\n",
            "85/85 [==============================] - 1s 14ms/step - loss: 5.3172e-04 - mse: 5.3172e-04\n",
            "Epoch 77/175\n",
            "85/85 [==============================] - 1s 14ms/step - loss: 5.7396e-04 - mse: 5.7396e-04\n",
            "Epoch 78/175\n",
            "85/85 [==============================] - 1s 13ms/step - loss: 5.0089e-04 - mse: 5.0089e-04\n",
            "Epoch 79/175\n",
            "85/85 [==============================] - 1s 14ms/step - loss: 5.4804e-04 - mse: 5.4804e-04\n",
            "Epoch 80/175\n",
            "85/85 [==============================] - 1s 13ms/step - loss: 5.1006e-04 - mse: 5.1006e-04\n",
            "Epoch 81/175\n",
            "85/85 [==============================] - 1s 14ms/step - loss: 5.1972e-04 - mse: 5.1972e-04\n",
            "Epoch 82/175\n",
            "85/85 [==============================] - 1s 14ms/step - loss: 5.1703e-04 - mse: 5.1703e-04\n",
            "Epoch 83/175\n",
            "85/85 [==============================] - 1s 13ms/step - loss: 4.8860e-04 - mse: 4.8860e-04\n",
            "Epoch 84/175\n",
            "85/85 [==============================] - 1s 14ms/step - loss: 5.0384e-04 - mse: 5.0384e-04\n",
            "Epoch 85/175\n",
            "85/85 [==============================] - 1s 14ms/step - loss: 4.9065e-04 - mse: 4.9065e-04\n",
            "Epoch 86/175\n",
            "85/85 [==============================] - 1s 14ms/step - loss: 4.6411e-04 - mse: 4.6411e-04\n",
            "Epoch 87/175\n",
            "85/85 [==============================] - 1s 13ms/step - loss: 5.5393e-04 - mse: 5.5393e-04\n",
            "Epoch 88/175\n",
            "85/85 [==============================] - 1s 14ms/step - loss: 5.2187e-04 - mse: 5.2187e-04\n",
            "Epoch 89/175\n",
            "85/85 [==============================] - 1s 14ms/step - loss: 5.1095e-04 - mse: 5.1095e-04\n",
            "Epoch 90/175\n",
            "85/85 [==============================] - 1s 13ms/step - loss: 4.7121e-04 - mse: 4.7121e-04\n",
            "Epoch 91/175\n",
            "85/85 [==============================] - 1s 13ms/step - loss: 5.0105e-04 - mse: 5.0105e-04\n",
            "Epoch 92/175\n",
            "85/85 [==============================] - 1s 14ms/step - loss: 5.1897e-04 - mse: 5.1897e-04\n",
            "Epoch 93/175\n",
            "85/85 [==============================] - 1s 14ms/step - loss: 5.1613e-04 - mse: 5.1613e-04\n",
            "Epoch 94/175\n",
            "85/85 [==============================] - 1s 14ms/step - loss: 5.1885e-04 - mse: 5.1885e-04\n",
            "Epoch 95/175\n",
            "85/85 [==============================] - 1s 14ms/step - loss: 5.0840e-04 - mse: 5.0840e-04\n",
            "Epoch 96/175\n",
            "85/85 [==============================] - 1s 13ms/step - loss: 5.0175e-04 - mse: 5.0175e-04\n",
            "Epoch 97/175\n",
            "85/85 [==============================] - 1s 13ms/step - loss: 5.0302e-04 - mse: 5.0302e-04\n",
            "Epoch 98/175\n",
            "85/85 [==============================] - 1s 13ms/step - loss: 5.0515e-04 - mse: 5.0515e-04\n",
            "Epoch 99/175\n",
            "85/85 [==============================] - 1s 14ms/step - loss: 4.7489e-04 - mse: 4.7489e-04\n",
            "Epoch 100/175\n",
            "85/85 [==============================] - 1s 13ms/step - loss: 4.9598e-04 - mse: 4.9598e-04\n",
            "Epoch 101/175\n",
            "85/85 [==============================] - 1s 13ms/step - loss: 4.7119e-04 - mse: 4.7119e-04\n",
            "Epoch 102/175\n",
            "85/85 [==============================] - 1s 14ms/step - loss: 5.0814e-04 - mse: 5.0814e-04\n",
            "Epoch 103/175\n",
            "85/85 [==============================] - 1s 13ms/step - loss: 4.7334e-04 - mse: 4.7334e-04\n",
            "Epoch 104/175\n",
            "85/85 [==============================] - 1s 13ms/step - loss: 4.6105e-04 - mse: 4.6105e-04\n",
            "Epoch 105/175\n",
            "85/85 [==============================] - 1s 14ms/step - loss: 4.6155e-04 - mse: 4.6155e-04\n",
            "Epoch 106/175\n",
            "85/85 [==============================] - 1s 14ms/step - loss: 4.7410e-04 - mse: 4.7410e-04\n",
            "Epoch 107/175\n",
            "85/85 [==============================] - 1s 13ms/step - loss: 5.2391e-04 - mse: 5.2391e-04\n",
            "Epoch 108/175\n",
            "85/85 [==============================] - 1s 13ms/step - loss: 4.7629e-04 - mse: 4.7629e-04\n",
            "Epoch 109/175\n",
            "85/85 [==============================] - 1s 13ms/step - loss: 4.9102e-04 - mse: 4.9102e-04\n",
            "Epoch 110/175\n",
            "85/85 [==============================] - 1s 14ms/step - loss: 4.5810e-04 - mse: 4.5810e-04\n",
            "Epoch 111/175\n",
            "85/85 [==============================] - 1s 14ms/step - loss: 4.7461e-04 - mse: 4.7461e-04\n",
            "Epoch 112/175\n",
            "85/85 [==============================] - 1s 13ms/step - loss: 4.7632e-04 - mse: 4.7632e-04\n",
            "Epoch 113/175\n",
            "85/85 [==============================] - 1s 13ms/step - loss: 4.6100e-04 - mse: 4.6100e-04\n",
            "Epoch 114/175\n",
            "85/85 [==============================] - 1s 14ms/step - loss: 5.1912e-04 - mse: 5.1912e-04\n",
            "Epoch 115/175\n",
            "85/85 [==============================] - 1s 14ms/step - loss: 4.6842e-04 - mse: 4.6842e-04\n",
            "Epoch 116/175\n",
            "85/85 [==============================] - 1s 14ms/step - loss: 4.8509e-04 - mse: 4.8509e-04\n",
            "Epoch 117/175\n",
            "85/85 [==============================] - 1s 14ms/step - loss: 4.6642e-04 - mse: 4.6642e-04\n",
            "Epoch 118/175\n",
            "85/85 [==============================] - 1s 14ms/step - loss: 4.8809e-04 - mse: 4.8809e-04\n",
            "Epoch 119/175\n",
            "85/85 [==============================] - 1s 14ms/step - loss: 4.7140e-04 - mse: 4.7140e-04\n",
            "Epoch 120/175\n",
            "85/85 [==============================] - 1s 14ms/step - loss: 4.6132e-04 - mse: 4.6132e-04\n",
            "Epoch 121/175\n",
            "85/85 [==============================] - 1s 14ms/step - loss: 4.6662e-04 - mse: 4.6662e-04\n",
            "Epoch 122/175\n",
            "85/85 [==============================] - 1s 14ms/step - loss: 4.3250e-04 - mse: 4.3250e-04\n",
            "Epoch 123/175\n",
            "85/85 [==============================] - 1s 14ms/step - loss: 4.2713e-04 - mse: 4.2713e-04\n",
            "Epoch 124/175\n",
            "85/85 [==============================] - 1s 13ms/step - loss: 4.3956e-04 - mse: 4.3956e-04\n",
            "Epoch 125/175\n",
            "85/85 [==============================] - 1s 13ms/step - loss: 4.6165e-04 - mse: 4.6165e-04\n",
            "Epoch 126/175\n",
            "85/85 [==============================] - 1s 14ms/step - loss: 4.3146e-04 - mse: 4.3146e-04\n",
            "Epoch 127/175\n",
            "85/85 [==============================] - 1s 14ms/step - loss: 4.4551e-04 - mse: 4.4551e-04\n",
            "Epoch 128/175\n",
            "85/85 [==============================] - 1s 14ms/step - loss: 4.3343e-04 - mse: 4.3343e-04\n",
            "Epoch 129/175\n",
            "85/85 [==============================] - 1s 14ms/step - loss: 4.7096e-04 - mse: 4.7096e-04\n",
            "Epoch 130/175\n",
            "85/85 [==============================] - 1s 14ms/step - loss: 4.4647e-04 - mse: 4.4647e-04\n",
            "Epoch 131/175\n",
            "85/85 [==============================] - 1s 14ms/step - loss: 4.5190e-04 - mse: 4.5190e-04\n",
            "Epoch 132/175\n",
            "85/85 [==============================] - 1s 14ms/step - loss: 4.3728e-04 - mse: 4.3728e-04\n",
            "Epoch 133/175\n",
            "85/85 [==============================] - 1s 14ms/step - loss: 4.5919e-04 - mse: 4.5919e-04\n",
            "Epoch 134/175\n",
            "85/85 [==============================] - 1s 14ms/step - loss: 4.4777e-04 - mse: 4.4777e-04\n",
            "Epoch 135/175\n",
            "85/85 [==============================] - 1s 14ms/step - loss: 4.5807e-04 - mse: 4.5807e-04\n",
            "Epoch 136/175\n",
            "85/85 [==============================] - 1s 14ms/step - loss: 4.3661e-04 - mse: 4.3661e-04\n",
            "Epoch 137/175\n",
            "85/85 [==============================] - 1s 14ms/step - loss: 4.6119e-04 - mse: 4.6119e-04\n",
            "Epoch 138/175\n",
            "85/85 [==============================] - 1s 14ms/step - loss: 4.5926e-04 - mse: 4.5926e-04\n",
            "Epoch 139/175\n",
            "85/85 [==============================] - 1s 14ms/step - loss: 4.2586e-04 - mse: 4.2586e-04\n",
            "Epoch 140/175\n",
            "85/85 [==============================] - 1s 14ms/step - loss: 4.5726e-04 - mse: 4.5726e-04\n",
            "Epoch 141/175\n",
            "85/85 [==============================] - 1s 14ms/step - loss: 4.1946e-04 - mse: 4.1946e-04\n",
            "Epoch 142/175\n",
            "85/85 [==============================] - 1s 14ms/step - loss: 4.2930e-04 - mse: 4.2930e-04\n",
            "Epoch 143/175\n",
            "85/85 [==============================] - 1s 14ms/step - loss: 4.5214e-04 - mse: 4.5214e-04\n",
            "Epoch 144/175\n",
            "85/85 [==============================] - 1s 14ms/step - loss: 4.2698e-04 - mse: 4.2698e-04\n",
            "Epoch 145/175\n",
            "85/85 [==============================] - 1s 14ms/step - loss: 4.3350e-04 - mse: 4.3350e-04\n",
            "Epoch 146/175\n",
            "85/85 [==============================] - 1s 14ms/step - loss: 4.6059e-04 - mse: 4.6059e-04\n",
            "Epoch 147/175\n",
            "85/85 [==============================] - 1s 14ms/step - loss: 4.4069e-04 - mse: 4.4069e-04\n",
            "Epoch 148/175\n",
            "85/85 [==============================] - 1s 14ms/step - loss: 4.2388e-04 - mse: 4.2388e-04\n",
            "Epoch 149/175\n",
            "85/85 [==============================] - 1s 14ms/step - loss: 4.0924e-04 - mse: 4.0924e-04\n",
            "Epoch 150/175\n",
            "85/85 [==============================] - 1s 14ms/step - loss: 4.1657e-04 - mse: 4.1657e-04\n",
            "Epoch 151/175\n",
            "85/85 [==============================] - 1s 14ms/step - loss: 4.6093e-04 - mse: 4.6093e-04\n",
            "Epoch 152/175\n",
            "85/85 [==============================] - 1s 14ms/step - loss: 4.3829e-04 - mse: 4.3829e-04\n",
            "Epoch 153/175\n",
            "85/85 [==============================] - 1s 14ms/step - loss: 4.5089e-04 - mse: 4.5089e-04\n",
            "Epoch 154/175\n",
            "85/85 [==============================] - 1s 14ms/step - loss: 4.4795e-04 - mse: 4.4795e-04\n",
            "Epoch 155/175\n",
            "85/85 [==============================] - 1s 14ms/step - loss: 4.4077e-04 - mse: 4.4077e-04\n",
            "Epoch 156/175\n",
            "85/85 [==============================] - 1s 14ms/step - loss: 4.0956e-04 - mse: 4.0956e-04\n",
            "Epoch 157/175\n",
            "85/85 [==============================] - 1s 15ms/step - loss: 4.4721e-04 - mse: 4.4721e-04\n",
            "Epoch 158/175\n",
            "85/85 [==============================] - 1s 14ms/step - loss: 4.2219e-04 - mse: 4.2219e-04\n",
            "Epoch 159/175\n",
            "85/85 [==============================] - 1s 14ms/step - loss: 4.2418e-04 - mse: 4.2418e-04\n",
            "Epoch 160/175\n",
            "85/85 [==============================] - 1s 14ms/step - loss: 4.0364e-04 - mse: 4.0364e-04\n",
            "Epoch 161/175\n",
            "85/85 [==============================] - 1s 15ms/step - loss: 4.3556e-04 - mse: 4.3556e-04\n",
            "Epoch 162/175\n",
            "85/85 [==============================] - 1s 14ms/step - loss: 4.3245e-04 - mse: 4.3245e-04\n",
            "Epoch 163/175\n",
            "85/85 [==============================] - 1s 14ms/step - loss: 4.1497e-04 - mse: 4.1497e-04\n",
            "Epoch 164/175\n",
            "85/85 [==============================] - 1s 14ms/step - loss: 4.4436e-04 - mse: 4.4436e-04\n",
            "Epoch 165/175\n",
            "85/85 [==============================] - 1s 15ms/step - loss: 4.1660e-04 - mse: 4.1660e-04\n",
            "Epoch 166/175\n",
            "85/85 [==============================] - 1s 14ms/step - loss: 4.3679e-04 - mse: 4.3679e-04\n",
            "Epoch 167/175\n",
            "85/85 [==============================] - 1s 14ms/step - loss: 4.2564e-04 - mse: 4.2564e-04\n",
            "Epoch 168/175\n",
            "85/85 [==============================] - 1s 14ms/step - loss: 4.1516e-04 - mse: 4.1516e-04\n",
            "Epoch 169/175\n",
            "85/85 [==============================] - 1s 14ms/step - loss: 4.3986e-04 - mse: 4.3986e-04\n",
            "Epoch 170/175\n",
            "85/85 [==============================] - 1s 14ms/step - loss: 4.3268e-04 - mse: 4.3268e-04\n",
            "Epoch 171/175\n",
            "85/85 [==============================] - 1s 13ms/step - loss: 4.4890e-04 - mse: 4.4890e-04\n",
            "Epoch 172/175\n",
            "85/85 [==============================] - 1s 14ms/step - loss: 4.0896e-04 - mse: 4.0896e-04\n",
            "Epoch 173/175\n",
            "85/85 [==============================] - 1s 14ms/step - loss: 4.1152e-04 - mse: 4.1152e-04\n",
            "Epoch 174/175\n",
            "85/85 [==============================] - 1s 14ms/step - loss: 4.1992e-04 - mse: 4.1992e-04\n",
            "Epoch 175/175\n",
            "85/85 [==============================] - 1s 13ms/step - loss: 3.8824e-04 - mse: 3.8824e-04\n"
          ],
          "name": "stdout"
        }
      ]
    },
    {
      "cell_type": "code",
      "metadata": {
        "id": "kSnrNoDT7i58"
      },
      "source": [
        "# boom we are done !!!"
      ],
      "execution_count": 160,
      "outputs": []
    },
    {
      "cell_type": "code",
      "metadata": {
        "colab": {
          "base_uri": "https://localhost:8080/",
          "height": 282
        },
        "id": "jgGxB13w7ldO",
        "outputId": "80badcf0-4696-4364-9e0c-0d2378df545e"
      },
      "source": [
        "pd.DataFrame(history.history).plot()"
      ],
      "execution_count": 245,
      "outputs": [
        {
          "output_type": "execute_result",
          "data": {
            "text/plain": [
              "<matplotlib.axes._subplots.AxesSubplot at 0x7f1a01b3b390>"
            ]
          },
          "metadata": {
            "tags": []
          },
          "execution_count": 245
        },
        {
          "output_type": "display_data",
          "data": {
            "image/png": "[encoded data removed]",
            "text/plain": [
              "<Figure size 432x288 with 1 Axes>"
            ]
          },
          "metadata": {
            "tags": [],
            "needs_background": "light"
          }
        }
      ]
    },
    {
      "cell_type": "code",
      "metadata": {
        "colab": {
          "base_uri": "https://localhost:8080/"
        },
        "id": "wh7xCs_vDkYO",
        "outputId": "30312bd8-4275-479f-f427-c19493ad3567"
      },
      "source": [
        "test_set_norm = np.array(test_set_norm)\n",
        "test_set_norm[0:5]"
      ],
      "execution_count": 246,
      "outputs": [
        {
          "output_type": "execute_result",
          "data": {
            "text/plain": [
              "array([0.05186672, 0.04623451, 0.03789129, 0.04160055, 0.04517322])"
            ]
          },
          "metadata": {
            "tags": []
          },
          "execution_count": 246
        }
      ]
    },
    {
      "cell_type": "code",
      "metadata": {
        "id": "XbY4AUMm72zK"
      },
      "source": [
        "# creation of test dataset...\n",
        "x_test_1 = []\n",
        "for i in range(60, 309) :\n",
        "  x_test_1.append(test_set_norm[i-60:i])"
      ],
      "execution_count": 249,
      "outputs": []
    },
    {
      "cell_type": "code",
      "metadata": {
        "id": "SUpvj2iGy7GS"
      },
      "source": [
        ""
      ],
      "execution_count": 209,
      "outputs": []
    },
    {
      "cell_type": "code",
      "metadata": {
        "colab": {
          "base_uri": "https://localhost:8080/"
        },
        "id": "ba4znDEx3Puq",
        "outputId": "47061741-d3cf-4903-a31c-400c2b5d436e"
      },
      "source": [
        "x_test_1[-1]"
      ],
      "execution_count": 250,
      "outputs": [
        {
          "output_type": "execute_result",
          "data": {
            "text/plain": [
              "array([0.22697994, 0.23512352, 0.24163838, 0.23849654, 0.24909895,\n",
              "       0.25328107, 0.2566646 , 0.25376444, 0.25645444, 0.25829332,\n",
              "       0.24884676, 0.25024431, 0.24723906, 0.2298696 , 0.23530215,\n",
              "       0.24799563, 0.30800593, 0.28300777, 0.28423718, 0.29144556,\n",
              "       0.28898673, 0.29438776, 0.29641577, 0.29727742, 0.3070287 ,\n",
              "       0.29461893, 0.2901531 , 0.29237025, 0.2856032 , 0.28279761,\n",
              "       0.29554362, 0.29474503, 0.28182038, 0.29410405, 0.2994    ,\n",
              "       0.30427564, 0.31790432, 0.32521778, 0.30290962, 0.28753665,\n",
              "       0.28028623, 0.27408661, 0.27969779, 0.28274507, 0.2925594 ,\n",
              "       0.30044028, 0.29999895, 0.30682905, 0.29945254, 0.31164164,\n",
              "       0.32022655, 0.33203737, 0.33045068, 0.32652075, 0.32261183,\n",
              "       0.31651728, 0.31351204, 0.31289207, 0.30928788, 0.30215306])"
            ]
          },
          "metadata": {
            "tags": []
          },
          "execution_count": 250
        }
      ]
    },
    {
      "cell_type": "code",
      "metadata": {
        "id": "vR7pJDsmyMoi"
      },
      "source": [
        "# reshaping to feed into the model\n",
        "x_test_1 = tf.reshape(x_test_1, shape = (249, 60, 1))"
      ],
      "execution_count": 251,
      "outputs": []
    },
    {
      "cell_type": "code",
      "metadata": {
        "id": "sqEZBji_KSlZ"
      },
      "source": [
        "y_preds = model_1.predict(x_test_1)"
      ],
      "execution_count": 252,
      "outputs": []
    },
    {
      "cell_type": "code",
      "metadata": {
        "colab": {
          "base_uri": "https://localhost:8080/"
        },
        "id": "R5JRj7OaRiDl",
        "outputId": "c3d98945-2e18-46d6-ec36-2f8a51120031"
      },
      "source": [
        "len(y_preds)"
      ],
      "execution_count": 253,
      "outputs": [
        {
          "output_type": "execute_result",
          "data": {
            "text/plain": [
              "249"
            ]
          },
          "metadata": {
            "tags": []
          },
          "execution_count": 253
        }
      ]
    },
    {
      "cell_type": "code",
      "metadata": {
        "id": "-WikVFeqbJ5Y"
      },
      "source": [
        "test_set = test_set.reset_index(drop = True)"
      ],
      "execution_count": 169,
      "outputs": []
    },
    {
      "cell_type": "code",
      "metadata": {
        "colab": {
          "base_uri": "https://localhost:8080/"
        },
        "id": "rLJCoRQVcDg1",
        "outputId": "103a31ed-3f5a-436d-a4f5-dc19b59670a4"
      },
      "source": [
        "len(y_val)"
      ],
      "execution_count": 234,
      "outputs": [
        {
          "output_type": "execute_result",
          "data": {
            "text/plain": [
              "189"
            ]
          },
          "metadata": {
            "tags": []
          },
          "execution_count": 234
        }
      ]
    },
    {
      "cell_type": "code",
      "metadata": {
        "colab": {
          "base_uri": "https://localhost:8080/"
        },
        "id": "uFXQKmCw6vco",
        "outputId": "3a9521d9-c662-4d6e-a737-ce6c24415f3f"
      },
      "source": [
        "len(test_set_norm)"
      ],
      "execution_count": 254,
      "outputs": [
        {
          "output_type": "execute_result",
          "data": {
            "text/plain": [
              "308"
            ]
          },
          "metadata": {
            "tags": []
          },
          "execution_count": 254
        }
      ]
    },
    {
      "cell_type": "code",
      "metadata": {
        "colab": {
          "base_uri": "https://localhost:8080/",
          "height": 282
        },
        "id": "HPO_DEvu-HE5",
        "outputId": "88b9f617-fc87-4d62-bd68-705fb3ffd9ab"
      },
      "source": [
        "plt.plot(training_set_norm)"
      ],
      "execution_count": 257,
      "outputs": [
        {
          "output_type": "execute_result",
          "data": {
            "text/plain": [
              "[<matplotlib.lines.Line2D at 0x7f1a01a1b210>]"
            ]
          },
          "metadata": {
            "tags": []
          },
          "execution_count": 257
        },
        {
          "output_type": "display_data",
          "data": {
            "image/png": "[encoded data removed]",
            "text/plain": [
              "<Figure size 432x288 with 1 Axes>"
            ]
          },
          "metadata": {
            "tags": [],
            "needs_background": "light"
          }
        }
      ]
    },
    {
      "cell_type": "code",
      "metadata": {
        "colab": {
          "base_uri": "https://localhost:8080/",
          "height": 282
        },
        "id": "nMVZN-0RZL08",
        "outputId": "235caf18-8086-43e6-8e51-517b99ec4a3c"
      },
      "source": [
        "plt.plot(test_set_norm[58:])\n",
        "plt.plot(y_preds)"
      ],
      "execution_count": 256,
      "outputs": [
        {
          "output_type": "execute_result",
          "data": {
            "text/plain": [
              "[<matplotlib.lines.Line2D at 0x7f1a01a47b10>]"
            ]
          },
          "metadata": {
            "tags": []
          },
          "execution_count": 256
        },
        {
          "output_type": "display_data",
          "data": {
            "image/png": "[encoded data removed]",
            "text/plain": [
              "<Figure size 432x288 with 1 Axes>"
            ]
          },
          "metadata": {
            "tags": [],
            "needs_background": "light"
          }
        }
      ]
    }
  ]
}