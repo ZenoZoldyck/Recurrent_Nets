{
  "nbformat": 4,
  "nbformat_minor": 0,
  "metadata": {
    "colab": {
      "name": "Apple_Stock_Prediction.ipynb",
      "provenance": [],
      "collapsed_sections": [],
      "authorship_tag": "ABX9TyP+cD8dPv7cPJOb2CpOtRX6",
      "include_colab_link": true
    },
    "kernelspec": {
      "name": "python3",
      "display_name": "Python 3"
    },
    "language_info": {
      "name": "python"
    },
    "accelerator": "GPU"
  },
  "cells": [
    {
      "cell_type": "markdown",
      "metadata": {
        "id": "view-in-github",
        "colab_type": "text"
      },
      "source": [
        "<a href=\"https://colab.research.google.com/github/ZenoZoldyck/Recurrent_Nets/blob/main/Apple_Stock_Prediction.ipynb\" target=\"_parent\"><img src=\"https://colab.research.google.com/assets/colab-badge.svg\" alt=\"Open In Colab\"/></a>"
      ]
    },
    {
      "cell_type": "code",
      "metadata": {
        "colab": {
          "base_uri": "https://localhost:8080/",
          "height": 35
        },
        "id": "o41AYKUMndiN",
        "outputId": "6c772f5f-a529-44a5-e18d-aa09aa276cbc"
      },
      "source": [
        "import tensorflow as tf\n",
        "import pandas as pd\n",
        "import numpy as np\n",
        "import matplotlib.pyplot as plt\n",
        "from sklearn.preprocessing import MinMaxScaler\n",
        "\n",
        "tf.__version__"
      ],
      "execution_count": 3,
      "outputs": [
        {
          "output_type": "execute_result",
          "data": {
            "application/vnd.google.colaboratory.intrinsic+json": {
              "type": "string"
            },
            "text/plain": [
              "'2.5.0'"
            ]
          },
          "metadata": {
            "tags": []
          },
          "execution_count": 3
        }
      ]
    },
    {
      "cell_type": "code",
      "metadata": {
        "colab": {
          "base_uri": "https://localhost:8080/",
          "height": 359
        },
        "id": "bGeoocTkn2cY",
        "outputId": "300279c4-3349-4dbd-f3f4-da9c0455b05a"
      },
      "source": [
        "# load in the data\n",
        "\n",
        "dataset = pd.read_csv(\"/content/AAPL_2006-01-01_to_2018-01-01.csv\")\n",
        "dataset[:10]"
      ],
      "execution_count": 5,
      "outputs": [
        {
          "output_type": "execute_result",
          "data": {
            "text/html": [
              "<div>\n",
              "<style scoped>\n",
              "    .dataframe tbody tr th:only-of-type {\n",
              "        vertical-align: middle;\n",
              "    }\n",
              "\n",
              "    .dataframe tbody tr th {\n",
              "        vertical-align: top;\n",
              "    }\n",
              "\n",
              "    .dataframe thead th {\n",
              "        text-align: right;\n",
              "    }\n",
              "</style>\n",
              "<table border=\"1\" class=\"dataframe\">\n",
              "  <thead>\n",
              "    <tr style=\"text-align: right;\">\n",
              "      <th></th>\n",
              "      <th>Date</th>\n",
              "      <th>Open</th>\n",
              "      <th>High</th>\n",
              "      <th>Low</th>\n",
              "      <th>Close</th>\n",
              "      <th>Volume</th>\n",
              "      <th>Name</th>\n",
              "    </tr>\n",
              "  </thead>\n",
              "  <tbody>\n",
              "    <tr>\n",
              "      <th>0</th>\n",
              "      <td>2006-01-03</td>\n",
              "      <td>10.34</td>\n",
              "      <td>10.68</td>\n",
              "      <td>10.32</td>\n",
              "      <td>10.68</td>\n",
              "      <td>201853036</td>\n",
              "      <td>AAPL</td>\n",
              "    </tr>\n",
              "    <tr>\n",
              "      <th>1</th>\n",
              "      <td>2006-01-04</td>\n",
              "      <td>10.73</td>\n",
              "      <td>10.85</td>\n",
              "      <td>10.64</td>\n",
              "      <td>10.71</td>\n",
              "      <td>155225609</td>\n",
              "      <td>AAPL</td>\n",
              "    </tr>\n",
              "    <tr>\n",
              "      <th>2</th>\n",
              "      <td>2006-01-05</td>\n",
              "      <td>10.69</td>\n",
              "      <td>10.70</td>\n",
              "      <td>10.54</td>\n",
              "      <td>10.63</td>\n",
              "      <td>112396081</td>\n",
              "      <td>AAPL</td>\n",
              "    </tr>\n",
              "    <tr>\n",
              "      <th>3</th>\n",
              "      <td>2006-01-06</td>\n",
              "      <td>10.75</td>\n",
              "      <td>10.96</td>\n",
              "      <td>10.65</td>\n",
              "      <td>10.90</td>\n",
              "      <td>176139334</td>\n",
              "      <td>AAPL</td>\n",
              "    </tr>\n",
              "    <tr>\n",
              "      <th>4</th>\n",
              "      <td>2006-01-09</td>\n",
              "      <td>10.96</td>\n",
              "      <td>11.03</td>\n",
              "      <td>10.82</td>\n",
              "      <td>10.86</td>\n",
              "      <td>168861224</td>\n",
              "      <td>AAPL</td>\n",
              "    </tr>\n",
              "    <tr>\n",
              "      <th>5</th>\n",
              "      <td>2006-01-10</td>\n",
              "      <td>10.89</td>\n",
              "      <td>11.70</td>\n",
              "      <td>10.83</td>\n",
              "      <td>11.55</td>\n",
              "      <td>570088246</td>\n",
              "      <td>AAPL</td>\n",
              "    </tr>\n",
              "    <tr>\n",
              "      <th>6</th>\n",
              "      <td>2006-01-11</td>\n",
              "      <td>11.98</td>\n",
              "      <td>12.11</td>\n",
              "      <td>11.80</td>\n",
              "      <td>11.99</td>\n",
              "      <td>373548882</td>\n",
              "      <td>AAPL</td>\n",
              "    </tr>\n",
              "    <tr>\n",
              "      <th>7</th>\n",
              "      <td>2006-01-12</td>\n",
              "      <td>12.14</td>\n",
              "      <td>12.34</td>\n",
              "      <td>11.95</td>\n",
              "      <td>12.04</td>\n",
              "      <td>320201966</td>\n",
              "      <td>AAPL</td>\n",
              "    </tr>\n",
              "    <tr>\n",
              "      <th>8</th>\n",
              "      <td>2006-01-13</td>\n",
              "      <td>12.14</td>\n",
              "      <td>12.29</td>\n",
              "      <td>12.09</td>\n",
              "      <td>12.23</td>\n",
              "      <td>194153393</td>\n",
              "      <td>AAPL</td>\n",
              "    </tr>\n",
              "    <tr>\n",
              "      <th>9</th>\n",
              "      <td>2006-01-17</td>\n",
              "      <td>12.24</td>\n",
              "      <td>12.34</td>\n",
              "      <td>11.98</td>\n",
              "      <td>12.10</td>\n",
              "      <td>209215265</td>\n",
              "      <td>AAPL</td>\n",
              "    </tr>\n",
              "  </tbody>\n",
              "</table>\n",
              "</div>"
            ],
            "text/plain": [
              "         Date   Open   High    Low  Close     Volume  Name\n",
              "0  2006-01-03  10.34  10.68  10.32  10.68  201853036  AAPL\n",
              "1  2006-01-04  10.73  10.85  10.64  10.71  155225609  AAPL\n",
              "2  2006-01-05  10.69  10.70  10.54  10.63  112396081  AAPL\n",
              "3  2006-01-06  10.75  10.96  10.65  10.90  176139334  AAPL\n",
              "4  2006-01-09  10.96  11.03  10.82  10.86  168861224  AAPL\n",
              "5  2006-01-10  10.89  11.70  10.83  11.55  570088246  AAPL\n",
              "6  2006-01-11  11.98  12.11  11.80  11.99  373548882  AAPL\n",
              "7  2006-01-12  12.14  12.34  11.95  12.04  320201966  AAPL\n",
              "8  2006-01-13  12.14  12.29  12.09  12.23  194153393  AAPL\n",
              "9  2006-01-17  12.24  12.34  11.98  12.10  209215265  AAPL"
            ]
          },
          "metadata": {
            "tags": []
          },
          "execution_count": 5
        }
      ]
    },
    {
      "cell_type": "code",
      "metadata": {
        "colab": {
          "base_uri": "https://localhost:8080/"
        },
        "id": "BemMsA7_odjU",
        "outputId": "d2e840d4-0bd4-4527-8bb1-f20fe39b8220"
      },
      "source": [
        "training_set = dataset[:2771][\"High\"]\n",
        "test_set = dataset[2771:][\"High\"]\n",
        "training_set.head(), test_set.head()"
      ],
      "execution_count": 6,
      "outputs": [
        {
          "output_type": "execute_result",
          "data": {
            "text/plain": [
              "(0    10.68\n",
              " 1    10.85\n",
              " 2    10.70\n",
              " 3    10.96\n",
              " 4    11.03\n",
              " Name: High, dtype: float64, 2771    118.16\n",
              " 2772    119.43\n",
              " 2773    119.38\n",
              " 2774    119.93\n",
              " 2775    119.30\n",
              " Name: High, dtype: float64)"
            ]
          },
          "metadata": {
            "tags": []
          },
          "execution_count": 6
        }
      ]
    },
    {
      "cell_type": "code",
      "metadata": {
        "colab": {
          "base_uri": "https://localhost:8080/"
        },
        "id": "g-tw9JA4qQmm",
        "outputId": "acbfdee7-8216-434d-bce6-60078d900525"
      },
      "source": [
        "# mean normalization done\n",
        "training_set_norm = (training_set - dataset[\"High\"].mean()) / dataset[\"High\"].mean()\n",
        "test_set_norm = (test_set - dataset[\"High\"].mean()) / dataset[\"High\"].mean()\n",
        "test_set_norm = test_set_norm.reset_index(drop = True)\n",
        "training_set_norm.head()"
      ],
      "execution_count": 52,
      "outputs": [
        {
          "output_type": "execute_result",
          "data": {
            "text/plain": [
              "0   -0.836339\n",
              "1   -0.833734\n",
              "2   -0.836032\n",
              "3   -0.832048\n",
              "4   -0.830976\n",
              "Name: High, dtype: float64"
            ]
          },
          "metadata": {
            "tags": []
          },
          "execution_count": 52
        }
      ]
    },
    {
      "cell_type": "code",
      "metadata": {
        "colab": {
          "base_uri": "https://localhost:8080/"
        },
        "id": "JCMUPHYOu-hi",
        "outputId": "c83de262-11a3-448b-8e30-43549d28577a"
      },
      "source": [
        "x_train = []\n",
        "y_train = []\n",
        "for i in range(60, 2770) :\n",
        "  x_train.append(training_set_norm[i-60:i])\n",
        "  y_train.append(training_set_norm[i])\n",
        "\n",
        "x_train, y_train = np.array(x_train), np.array(y_train)\n",
        "x_train[0], y_train[0]"
      ],
      "execution_count": 36,
      "outputs": [
        {
          "output_type": "execute_result",
          "data": {
            "text/plain": [
              "(array([-0.83633898, -0.83373389, -0.8360325 , -0.83204824, -0.83097556,\n",
              "        -0.82070843, -0.81442556, -0.81090103, -0.81166723, -0.81090103,\n",
              "        -0.81595797, -0.82116815, -0.82484593, -0.82576537, -0.82607185,\n",
              "        -0.83036259, -0.83480657, -0.83894407, -0.83235472, -0.83281444,\n",
              "        -0.8326612 , -0.83495981, -0.84062972, -0.84124268, -0.84783203,\n",
              "        -0.84875147, -0.84844499, -0.85181629, -0.85380841, -0.85089684,\n",
              "        -0.84752555, -0.84461397, -0.84476721, -0.8450737 , -0.84308157,\n",
              "        -0.84017   , -0.84047648, -0.84216212, -0.84154916, -0.84783203,\n",
              "        -0.84675934, -0.84691258, -0.85181629, -0.85350193, -0.85288897,\n",
              "        -0.85442138, -0.85886536, -0.8548811 , -0.85258249, -0.85105008,\n",
              "        -0.85350193, -0.85656675, -0.85671999, -0.85917184, -0.86147045,\n",
              "        -0.86453526, -0.86652739, -0.86560794, -0.86836628, -0.86315609]),\n",
              " -0.861470446379526)"
            ]
          },
          "metadata": {
            "tags": []
          },
          "execution_count": 36
        }
      ]
    },
    {
      "cell_type": "code",
      "metadata": {
        "colab": {
          "base_uri": "https://localhost:8080/"
        },
        "id": "W58KNmcyy2Bl",
        "outputId": "082a3db8-b46d-43a5-eba1-dc66b32f213c"
      },
      "source": [
        "x_train.shape\n",
        "x_train = tf.reshape(x_train, shape = (2710, 60, 1))\n",
        "x_train[0].shape"
      ],
      "execution_count": 37,
      "outputs": [
        {
          "output_type": "execute_result",
          "data": {
            "text/plain": [
              "TensorShape([60, 1])"
            ]
          },
          "metadata": {
            "tags": []
          },
          "execution_count": 37
        }
      ]
    },
    {
      "cell_type": "code",
      "metadata": {
        "colab": {
          "base_uri": "https://localhost:8080/"
        },
        "id": "Z1X4AQRkzL_P",
        "outputId": "0be0bcc7-cfd8-4417-c1a2-a84d10107e5a"
      },
      "source": [
        "y_train.shape"
      ],
      "execution_count": 38,
      "outputs": [
        {
          "output_type": "execute_result",
          "data": {
            "text/plain": [
              "(2710,)"
            ]
          },
          "metadata": {
            "tags": []
          },
          "execution_count": 38
        }
      ]
    },
    {
      "cell_type": "code",
      "metadata": {
        "colab": {
          "base_uri": "https://localhost:8080/"
        },
        "id": "7LTH06FbzO7O",
        "outputId": "d70dc490-1d0e-4f2a-d6c1-16bae88c7778"
      },
      "source": [
        "# time for model creation\n",
        "\n",
        "model_1 = tf.keras.Sequential([\n",
        "     tf.keras.layers.LSTM(50, return_sequences = True, input_shape = (60, 1)),\n",
        "     tf.keras.layers.Dropout(0.2),\n",
        "     tf.keras.layers.LSTM(50, return_sequences = True),\n",
        "     tf.keras.layers.Dropout(0.2),\n",
        "     tf.keras.layers.LSTM(50, return_sequences = True),\n",
        "     tf.keras.layers.Dropout(0.2),\n",
        "     tf.keras.layers.LSTM(50),\n",
        "     tf.keras.layers.Dropout(0.2),\n",
        "     tf.keras.layers.Dense(1)\n",
        "])\n",
        "model_1.summary()"
      ],
      "execution_count": 39,
      "outputs": [
        {
          "output_type": "stream",
          "text": [
            "Model: \"sequential_1\"\n",
            "_________________________________________________________________\n",
            "Layer (type)                 Output Shape              Param #   \n",
            "=================================================================\n",
            "lstm_4 (LSTM)                (None, 60, 50)            10400     \n",
            "_________________________________________________________________\n",
            "dropout_4 (Dropout)          (None, 60, 50)            0         \n",
            "_________________________________________________________________\n",
            "lstm_5 (LSTM)                (None, 60, 50)            20200     \n",
            "_________________________________________________________________\n",
            "dropout_5 (Dropout)          (None, 60, 50)            0         \n",
            "_________________________________________________________________\n",
            "lstm_6 (LSTM)                (None, 60, 50)            20200     \n",
            "_________________________________________________________________\n",
            "dropout_6 (Dropout)          (None, 60, 50)            0         \n",
            "_________________________________________________________________\n",
            "lstm_7 (LSTM)                (None, 50)                20200     \n",
            "_________________________________________________________________\n",
            "dropout_7 (Dropout)          (None, 50)                0         \n",
            "_________________________________________________________________\n",
            "dense_1 (Dense)              (None, 1)                 51        \n",
            "=================================================================\n",
            "Total params: 71,051\n",
            "Trainable params: 71,051\n",
            "Non-trainable params: 0\n",
            "_________________________________________________________________\n"
          ],
          "name": "stdout"
        }
      ]
    },
    {
      "cell_type": "code",
      "metadata": {
        "colab": {
          "base_uri": "https://localhost:8080/"
        },
        "id": "qwImypOc5Q4g",
        "outputId": "6b753ba8-90b0-4003-b398-8a80a033481c"
      },
      "source": [
        "# time to compile\n",
        "model_1.compile(loss = tf.keras.losses.mse,\n",
        "              optimizer = tf.keras.optimizers.RMSprop(),\n",
        "              metrics = [\"mse\"])\n",
        "history = model_1.fit(x_train, y_train, epochs = 100, batch_size = 32)"
      ],
      "execution_count": 40,
      "outputs": [
        {
          "output_type": "stream",
          "text": [
            "Epoch 1/100\n",
            "85/85 [==============================] - 6s 15ms/step - loss: 0.0231 - mse: 0.0231\n",
            "Epoch 2/100\n",
            "85/85 [==============================] - 1s 14ms/step - loss: 0.0116 - mse: 0.0116\n",
            "Epoch 3/100\n",
            "85/85 [==============================] - 1s 14ms/step - loss: 0.0107 - mse: 0.0107\n",
            "Epoch 4/100\n",
            "85/85 [==============================] - 1s 13ms/step - loss: 0.0092 - mse: 0.0092\n",
            "Epoch 5/100\n",
            "85/85 [==============================] - 1s 13ms/step - loss: 0.0086 - mse: 0.0086\n",
            "Epoch 6/100\n",
            "85/85 [==============================] - 1s 14ms/step - loss: 0.0080 - mse: 0.0080\n",
            "Epoch 7/100\n",
            "85/85 [==============================] - 1s 13ms/step - loss: 0.0077 - mse: 0.0077\n",
            "Epoch 8/100\n",
            "85/85 [==============================] - 1s 13ms/step - loss: 0.0074 - mse: 0.0074\n",
            "Epoch 9/100\n",
            "85/85 [==============================] - 1s 13ms/step - loss: 0.0071 - mse: 0.0071\n",
            "Epoch 10/100\n",
            "85/85 [==============================] - 1s 13ms/step - loss: 0.0072 - mse: 0.0072\n",
            "Epoch 11/100\n",
            "85/85 [==============================] - 1s 14ms/step - loss: 0.0069 - mse: 0.0069\n",
            "Epoch 12/100\n",
            "85/85 [==============================] - 1s 13ms/step - loss: 0.0067 - mse: 0.0067\n",
            "Epoch 13/100\n",
            "85/85 [==============================] - 1s 13ms/step - loss: 0.0064 - mse: 0.0064\n",
            "Epoch 14/100\n",
            "85/85 [==============================] - 1s 14ms/step - loss: 0.0063 - mse: 0.0063\n",
            "Epoch 15/100\n",
            "85/85 [==============================] - 1s 14ms/step - loss: 0.0063 - mse: 0.0063\n",
            "Epoch 16/100\n",
            "85/85 [==============================] - 1s 13ms/step - loss: 0.0064 - mse: 0.0064\n",
            "Epoch 17/100\n",
            "85/85 [==============================] - 1s 13ms/step - loss: 0.0058 - mse: 0.0058\n",
            "Epoch 18/100\n",
            "85/85 [==============================] - 1s 13ms/step - loss: 0.0059 - mse: 0.0059\n",
            "Epoch 19/100\n",
            "85/85 [==============================] - 1s 13ms/step - loss: 0.0057 - mse: 0.0057\n",
            "Epoch 20/100\n",
            "85/85 [==============================] - 1s 13ms/step - loss: 0.0062 - mse: 0.0062\n",
            "Epoch 21/100\n",
            "85/85 [==============================] - 1s 14ms/step - loss: 0.0058 - mse: 0.0058\n",
            "Epoch 22/100\n",
            "85/85 [==============================] - 1s 14ms/step - loss: 0.0053 - mse: 0.0053\n",
            "Epoch 23/100\n",
            "85/85 [==============================] - 1s 13ms/step - loss: 0.0055 - mse: 0.0055\n",
            "Epoch 24/100\n",
            "85/85 [==============================] - 1s 13ms/step - loss: 0.0056 - mse: 0.0056\n",
            "Epoch 25/100\n",
            "85/85 [==============================] - 1s 13ms/step - loss: 0.0053 - mse: 0.0053\n",
            "Epoch 26/100\n",
            "85/85 [==============================] - 1s 13ms/step - loss: 0.0054 - mse: 0.0054\n",
            "Epoch 27/100\n",
            "85/85 [==============================] - 1s 13ms/step - loss: 0.0051 - mse: 0.0051\n",
            "Epoch 28/100\n",
            "85/85 [==============================] - 1s 14ms/step - loss: 0.0055 - mse: 0.0055\n",
            "Epoch 29/100\n",
            "85/85 [==============================] - 1s 13ms/step - loss: 0.0049 - mse: 0.0049\n",
            "Epoch 30/100\n",
            "85/85 [==============================] - 1s 14ms/step - loss: 0.0049 - mse: 0.0049\n",
            "Epoch 31/100\n",
            "85/85 [==============================] - 1s 13ms/step - loss: 0.0049 - mse: 0.0049\n",
            "Epoch 32/100\n",
            "85/85 [==============================] - 1s 14ms/step - loss: 0.0050 - mse: 0.0050\n",
            "Epoch 33/100\n",
            "85/85 [==============================] - 1s 14ms/step - loss: 0.0051 - mse: 0.0051\n",
            "Epoch 34/100\n",
            "85/85 [==============================] - 1s 14ms/step - loss: 0.0048 - mse: 0.0048\n",
            "Epoch 35/100\n",
            "85/85 [==============================] - 1s 14ms/step - loss: 0.0049 - mse: 0.0049\n",
            "Epoch 36/100\n",
            "85/85 [==============================] - 1s 14ms/step - loss: 0.0046 - mse: 0.0046\n",
            "Epoch 37/100\n",
            "85/85 [==============================] - 1s 14ms/step - loss: 0.0046 - mse: 0.0046\n",
            "Epoch 38/100\n",
            "85/85 [==============================] - 1s 13ms/step - loss: 0.0045 - mse: 0.0045\n",
            "Epoch 39/100\n",
            "85/85 [==============================] - 1s 14ms/step - loss: 0.0049 - mse: 0.0049\n",
            "Epoch 40/100\n",
            "85/85 [==============================] - 1s 13ms/step - loss: 0.0043 - mse: 0.0043\n",
            "Epoch 41/100\n",
            "85/85 [==============================] - 1s 14ms/step - loss: 0.0042 - mse: 0.0042\n",
            "Epoch 42/100\n",
            "85/85 [==============================] - 1s 14ms/step - loss: 0.0040 - mse: 0.0040\n",
            "Epoch 43/100\n",
            "85/85 [==============================] - 1s 14ms/step - loss: 0.0045 - mse: 0.0045\n",
            "Epoch 44/100\n",
            "85/85 [==============================] - 1s 13ms/step - loss: 0.0044 - mse: 0.0044\n",
            "Epoch 45/100\n",
            "85/85 [==============================] - 1s 13ms/step - loss: 0.0043 - mse: 0.0043\n",
            "Epoch 46/100\n",
            "85/85 [==============================] - 1s 13ms/step - loss: 0.0041 - mse: 0.0041\n",
            "Epoch 47/100\n",
            "85/85 [==============================] - 1s 13ms/step - loss: 0.0046 - mse: 0.0046\n",
            "Epoch 48/100\n",
            "85/85 [==============================] - 1s 13ms/step - loss: 0.0039 - mse: 0.0039\n",
            "Epoch 49/100\n",
            "85/85 [==============================] - 1s 13ms/step - loss: 0.0040 - mse: 0.0040\n",
            "Epoch 50/100\n",
            "85/85 [==============================] - 1s 13ms/step - loss: 0.0040 - mse: 0.0040\n",
            "Epoch 51/100\n",
            "85/85 [==============================] - 1s 13ms/step - loss: 0.0041 - mse: 0.0041\n",
            "Epoch 52/100\n",
            "85/85 [==============================] - 1s 13ms/step - loss: 0.0039 - mse: 0.0039\n",
            "Epoch 53/100\n",
            "85/85 [==============================] - 1s 13ms/step - loss: 0.0041 - mse: 0.0041\n",
            "Epoch 54/100\n",
            "85/85 [==============================] - 1s 13ms/step - loss: 0.0041 - mse: 0.0041\n",
            "Epoch 55/100\n",
            "85/85 [==============================] - 1s 14ms/step - loss: 0.0041 - mse: 0.0041\n",
            "Epoch 56/100\n",
            "85/85 [==============================] - 1s 13ms/step - loss: 0.0036 - mse: 0.0036\n",
            "Epoch 57/100\n",
            "85/85 [==============================] - 1s 13ms/step - loss: 0.0039 - mse: 0.0039\n",
            "Epoch 58/100\n",
            "85/85 [==============================] - 1s 13ms/step - loss: 0.0039 - mse: 0.0039\n",
            "Epoch 59/100\n",
            "85/85 [==============================] - 1s 13ms/step - loss: 0.0037 - mse: 0.0037\n",
            "Epoch 60/100\n",
            "85/85 [==============================] - 1s 14ms/step - loss: 0.0037 - mse: 0.0037\n",
            "Epoch 61/100\n",
            "85/85 [==============================] - 1s 14ms/step - loss: 0.0038 - mse: 0.0038\n",
            "Epoch 62/100\n",
            "85/85 [==============================] - 1s 14ms/step - loss: 0.0036 - mse: 0.0036\n",
            "Epoch 63/100\n",
            "85/85 [==============================] - 1s 14ms/step - loss: 0.0039 - mse: 0.0039\n",
            "Epoch 64/100\n",
            "85/85 [==============================] - 1s 13ms/step - loss: 0.0037 - mse: 0.0037\n",
            "Epoch 65/100\n",
            "85/85 [==============================] - 1s 14ms/step - loss: 0.0037 - mse: 0.0037\n",
            "Epoch 66/100\n",
            "85/85 [==============================] - 1s 14ms/step - loss: 0.0036 - mse: 0.0036\n",
            "Epoch 67/100\n",
            "85/85 [==============================] - 1s 14ms/step - loss: 0.0035 - mse: 0.0035\n",
            "Epoch 68/100\n",
            "85/85 [==============================] - 1s 13ms/step - loss: 0.0034 - mse: 0.0034\n",
            "Epoch 69/100\n",
            "85/85 [==============================] - 1s 14ms/step - loss: 0.0037 - mse: 0.0037\n",
            "Epoch 70/100\n",
            "85/85 [==============================] - 1s 14ms/step - loss: 0.0035 - mse: 0.0035\n",
            "Epoch 71/100\n",
            "85/85 [==============================] - 1s 14ms/step - loss: 0.0035 - mse: 0.0035\n",
            "Epoch 72/100\n",
            "85/85 [==============================] - 1s 13ms/step - loss: 0.0034 - mse: 0.0034\n",
            "Epoch 73/100\n",
            "85/85 [==============================] - 1s 14ms/step - loss: 0.0035 - mse: 0.0035\n",
            "Epoch 74/100\n",
            "85/85 [==============================] - 1s 14ms/step - loss: 0.0034 - mse: 0.0034\n",
            "Epoch 75/100\n",
            "85/85 [==============================] - 1s 13ms/step - loss: 0.0036 - mse: 0.0036\n",
            "Epoch 76/100\n",
            "85/85 [==============================] - 1s 14ms/step - loss: 0.0034 - mse: 0.0034\n",
            "Epoch 77/100\n",
            "85/85 [==============================] - 1s 14ms/step - loss: 0.0033 - mse: 0.0033\n",
            "Epoch 78/100\n",
            "85/85 [==============================] - 1s 13ms/step - loss: 0.0034 - mse: 0.0034\n",
            "Epoch 79/100\n",
            "85/85 [==============================] - 1s 13ms/step - loss: 0.0032 - mse: 0.0032\n",
            "Epoch 80/100\n",
            "85/85 [==============================] - 1s 13ms/step - loss: 0.0032 - mse: 0.0032\n",
            "Epoch 81/100\n",
            "85/85 [==============================] - 1s 13ms/step - loss: 0.0033 - mse: 0.0033\n",
            "Epoch 82/100\n",
            "85/85 [==============================] - 1s 14ms/step - loss: 0.0034 - mse: 0.0034\n",
            "Epoch 83/100\n",
            "85/85 [==============================] - 1s 14ms/step - loss: 0.0032 - mse: 0.0032\n",
            "Epoch 84/100\n",
            "85/85 [==============================] - 1s 14ms/step - loss: 0.0031 - mse: 0.0031\n",
            "Epoch 85/100\n",
            "85/85 [==============================] - 1s 13ms/step - loss: 0.0033 - mse: 0.0033\n",
            "Epoch 86/100\n",
            "85/85 [==============================] - 1s 13ms/step - loss: 0.0033 - mse: 0.0033\n",
            "Epoch 87/100\n",
            "85/85 [==============================] - 1s 13ms/step - loss: 0.0033 - mse: 0.0033\n",
            "Epoch 88/100\n",
            "85/85 [==============================] - 1s 14ms/step - loss: 0.0031 - mse: 0.0031\n",
            "Epoch 89/100\n",
            "85/85 [==============================] - 1s 14ms/step - loss: 0.0033 - mse: 0.0033\n",
            "Epoch 90/100\n",
            "85/85 [==============================] - 1s 14ms/step - loss: 0.0031 - mse: 0.0031\n",
            "Epoch 91/100\n",
            "85/85 [==============================] - 1s 14ms/step - loss: 0.0036 - mse: 0.0036\n",
            "Epoch 92/100\n",
            "85/85 [==============================] - 1s 14ms/step - loss: 0.0030 - mse: 0.0030\n",
            "Epoch 93/100\n",
            "85/85 [==============================] - 1s 14ms/step - loss: 0.0032 - mse: 0.0032\n",
            "Epoch 94/100\n",
            "85/85 [==============================] - 1s 14ms/step - loss: 0.0031 - mse: 0.0031\n",
            "Epoch 95/100\n",
            "85/85 [==============================] - 1s 13ms/step - loss: 0.0032 - mse: 0.0032\n",
            "Epoch 96/100\n",
            "85/85 [==============================] - 1s 14ms/step - loss: 0.0031 - mse: 0.0031\n",
            "Epoch 97/100\n",
            "85/85 [==============================] - 1s 13ms/step - loss: 0.0029 - mse: 0.0029\n",
            "Epoch 98/100\n",
            "85/85 [==============================] - 1s 13ms/step - loss: 0.0030 - mse: 0.0030\n",
            "Epoch 99/100\n",
            "85/85 [==============================] - 1s 14ms/step - loss: 0.0031 - mse: 0.0031\n",
            "Epoch 100/100\n",
            "85/85 [==============================] - 1s 14ms/step - loss: 0.0031 - mse: 0.0031\n"
          ],
          "name": "stdout"
        }
      ]
    },
    {
      "cell_type": "code",
      "metadata": {
        "id": "kSnrNoDT7i58"
      },
      "source": [
        "# boom we are done !!!"
      ],
      "execution_count": null,
      "outputs": []
    },
    {
      "cell_type": "code",
      "metadata": {
        "colab": {
          "base_uri": "https://localhost:8080/",
          "height": 282
        },
        "id": "jgGxB13w7ldO",
        "outputId": "119e22c2-ba49-4881-9dc7-dc580e1ad7de"
      },
      "source": [
        "pd.DataFrame(history.history).plot()"
      ],
      "execution_count": 41,
      "outputs": [
        {
          "output_type": "execute_result",
          "data": {
            "text/plain": [
              "<matplotlib.axes._subplots.AxesSubplot at 0x7f1a5971a9d0>"
            ]
          },
          "metadata": {
            "tags": []
          },
          "execution_count": 41
        },
        {
          "output_type": "display_data",
          "data": {
            "image/png": "[encoded data removed]",
            "text/plain": [
              "<Figure size 432x288 with 1 Axes>"
            ]
          },
          "metadata": {
            "tags": [],
            "needs_background": "light"
          }
        }
      ]
    },
    {
      "cell_type": "code",
      "metadata": {
        "colab": {
          "base_uri": "https://localhost:8080/"
        },
        "id": "wh7xCs_vDkYO",
        "outputId": "0bd6cbea-4e46-4845-e10a-f2c030a1f69b"
      },
      "source": [
        "test_set_norm = np.array(test_set_norm)\n",
        "test_set_norm[0:5]"
      ],
      "execution_count": 77,
      "outputs": [
        {
          "output_type": "execute_result",
          "data": {
            "text/plain": [
              "array([0.8106916 , 0.83015316, 0.82938696, 0.8378152 , 0.82816103])"
            ]
          },
          "metadata": {
            "tags": []
          },
          "execution_count": 77
        }
      ]
    },
    {
      "cell_type": "code",
      "metadata": {
        "id": "XbY4AUMm72zK"
      },
      "source": [
        "# creation of test dataset...\n",
        "x_test = []\n",
        "for i in range(60, 249) :\n",
        "  x_test.append(test_set_norm[i-60:i])"
      ],
      "execution_count": 89,
      "outputs": []
    },
    {
      "cell_type": "code",
      "metadata": {
        "colab": {
          "base_uri": "https://localhost:8080/"
        },
        "id": "0hSATxOWRQRS",
        "outputId": "852ab40d-b059-40a5-b6fb-51d03bdcf585"
      },
      "source": [
        "len(x_test)"
      ],
      "execution_count": 93,
      "outputs": [
        {
          "output_type": "execute_result",
          "data": {
            "text/plain": [
              "189"
            ]
          },
          "metadata": {
            "tags": []
          },
          "execution_count": 93
        }
      ]
    },
    {
      "cell_type": "code",
      "metadata": {
        "id": "CEMhTlJ-HeaM"
      },
      "source": [
        "# reshaping to feed into the model\n",
        "x_test = tf.reshape(x_test, shape = (189, 60, 1))"
      ],
      "execution_count": 96,
      "outputs": []
    },
    {
      "cell_type": "code",
      "metadata": {
        "id": "sqEZBji_KSlZ"
      },
      "source": [
        "y_preds = model_1.predict(x_train)"
      ],
      "execution_count": 123,
      "outputs": []
    },
    {
      "cell_type": "code",
      "metadata": {
        "colab": {
          "base_uri": "https://localhost:8080/"
        },
        "id": "R5JRj7OaRiDl",
        "outputId": "92b1ce21-d6e1-4970-fb44-4d26363aec02"
      },
      "source": [
        "y_val = (y_preds * dataset[\"High\"].mean()) + dataset[\"High\"].mean()\n",
        "y_val[0]"
      ],
      "execution_count": 124,
      "outputs": [
        {
          "output_type": "execute_result",
          "data": {
            "text/plain": [
              "array([12.047104], dtype=float32)"
            ]
          },
          "metadata": {
            "tags": []
          },
          "execution_count": 124
        }
      ]
    },
    {
      "cell_type": "code",
      "metadata": {
        "id": "-WikVFeqbJ5Y"
      },
      "source": [
        "test_set = test_set.reset_index(drop = True)"
      ],
      "execution_count": 114,
      "outputs": []
    },
    {
      "cell_type": "code",
      "metadata": {
        "colab": {
          "base_uri": "https://localhost:8080/"
        },
        "id": "rLJCoRQVcDg1",
        "outputId": "ef96d382-3c54-4237-d3ed-3b1e8424eb10"
      },
      "source": [
        "len(y_val)"
      ],
      "execution_count": 116,
      "outputs": [
        {
          "output_type": "execute_result",
          "data": {
            "text/plain": [
              "189"
            ]
          },
          "metadata": {
            "tags": []
          },
          "execution_count": 116
        }
      ]
    },
    {
      "cell_type": "code",
      "metadata": {
        "colab": {
          "base_uri": "https://localhost:8080/",
          "height": 282
        },
        "id": "nMVZN-0RZL08",
        "outputId": "fd4744fb-8500-4221-a0aa-9f918c1b2bc7"
      },
      "source": [
        "plt.plot(training_set_norm)\n",
        "plt.plot(y_preds)"
      ],
      "execution_count": 125,
      "outputs": [
        {
          "output_type": "execute_result",
          "data": {
            "text/plain": [
              "[<matplotlib.lines.Line2D at 0x7f1a205b72d0>]"
            ]
          },
          "metadata": {
            "tags": []
          },
          "execution_count": 125
        },
        {
          "output_type": "display_data",
          "data": {
            "image/png": "[encoded data removed]",
            "text/plain": [
              "<Figure size 432x288 with 1 Axes>"
            ]
          },
          "metadata": {
            "tags": [],
            "needs_background": "light"
          }
        }
      ]
    }
  ]
}